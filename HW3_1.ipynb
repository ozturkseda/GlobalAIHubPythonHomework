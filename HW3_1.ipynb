{
 "cells": [
  {
   "cell_type": "code",
   "execution_count": 2,
   "metadata": {},
   "outputs": [
    {
     "name": "stdout",
     "output_type": "stream",
     "text": [
      "Enter your name:Seda\n",
      "Welcome to the game\n",
      "User: Seda\n",
      "\n",
      "Guess one letter : t\n",
      "Wrong guess!.4 last guess.\n",
      "Would you like to guess the word? ['y' veya 'n'] : d\n",
      "Guess one letter : f\n",
      "Wrong guess!.3 last guess.\n",
      "Would you like to guess the word? ['y' veya 'n'] : g\n",
      "Guess one letter : h\n",
      "Wrong guess!.2 last guess.\n",
      "Would you like to guess the word? ['y' veya 'n'] : f\n",
      "Guess one letter : ds\n",
      "Please write just a letter\n",
      "Guess one letter : d\n",
      "Wrong guess!.1 last guess.\n",
      "Would you like to guess the word? ['y' veya 'n'] : a\n",
      "Guess one letter : d\n",
      "Wrong guess!.0 last guess.\n",
      "Would you like to guess the word? ['y' veya 'n'] : f\n",
      "It is finished .Lost!\n"
     ]
    }
   ],
   "source": [
    "import random\n",
    "user=input(\"Enter your name:\")\n",
    "print(\"Welcome to the game\")\n",
    "print(\"User:\",user)\n",
    "\n",
    "words = [\"okul\" , \"öğrenci\" , \"kitap\" , \"defter\" , \"kalem\" , \"sınav\" , \"öğretmen\"]\n",
    "random_word = random.choice(words) \n",
    "guess_n = 5\n",
    "letters = []\n",
    "x = len(letters)\n",
    "y = list('_' * x)\n",
    "print(' '.join(y), end='\\n')\n",
    "\n",
    "while guess_n > 0:\n",
    "    z = input(\"Guess one letter : \")\n",
    "    if y in letters:\n",
    "        print(\"Same letter used before.\")\n",
    "        continue\n",
    "\n",
    "    elif len(z) > 1:\n",
    "        print(\"Please write just a letter\")\n",
    "        continue\n",
    "\n",
    "    elif z not in random_word:\n",
    "        guess_n -= 1\n",
    "        print(f'Wrong guess!.{guess_n} last guess.')\n",
    "\n",
    "    else:\n",
    "        for i in range(len(random_word)):\n",
    "            if z == random_word[i]:\n",
    "                print(\"Corret!\")\n",
    "                y[i] = z\n",
    "                letters.append(z)\n",
    "        print(' '.join(b), end='\\n')\n",
    "\n",
    "    answer = input(\"Would you like to guess the word? ['y' veya 'n'] : \")\n",
    "\n",
    "    if answer == \"y\":\n",
    "        guess = input(\"You can guess the word : \")\n",
    "        if guess == random_word:\n",
    "            print(\"You are correct...\")\n",
    "            break\n",
    "        else:\n",
    "            guess_n -= 1\n",
    "            print(f'Wrong guess. {guess_n} last guess.')\n",
    "\n",
    "\n",
    "    if guess_n == 0:\n",
    "        print(\"It is finished .Lost!\")\n",
    "        break"
   ]
  },
  {
   "cell_type": "code",
   "execution_count": null,
   "metadata": {},
   "outputs": [],
   "source": []
  }
 ],
 "metadata": {
  "kernelspec": {
   "display_name": "Python 3",
   "language": "python",
   "name": "python3"
  },
  "language_info": {
   "codemirror_mode": {
    "name": "ipython",
    "version": 3
   },
   "file_extension": ".py",
   "mimetype": "text/x-python",
   "name": "python",
   "nbconvert_exporter": "python",
   "pygments_lexer": "ipython3",
   "version": "3.8.3"
  }
 },
 "nbformat": 4,
 "nbformat_minor": 4
}
