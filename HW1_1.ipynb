{
 "cells": [
  {
   "cell_type": "code",
   "execution_count": 1,
   "metadata": {},
   "outputs": [
    {
     "name": "stdout",
     "output_type": "stream",
     "text": [
      "lütfen İsminizi giriniz:Seda\n",
      "lütfen Soyisminizi giriniz:ÖZTÜRK\n",
      "lütfen Doğum tarihinizi giriniz:1994\n",
      "lütfen Kilonuzu giriniz:57\n",
      "lütfen Boyunuzu giriniz:176\n",
      "1. veri: Seda\n",
      "1. veri tipi: <class 'str'>\n",
      "2. veri: ÖZTÜRK\n",
      "2. veri tipi: <class 'str'>\n",
      "3. veri: 1994\n",
      "3. veri tipi: <class 'int'>\n",
      "4. veri:57.0\n",
      "4. veri tipi: <class 'float'>\n",
      "5. veri:176.0\n",
      "5. veri tipi: <class 'float'>\n"
     ]
    }
   ],
   "source": [
    "x1=input(\"lütfen İsminizi giriniz:\")\n",
    "x2=input(\"lütfen Soyisminizi giriniz:\")\n",
    "x3=int(input(\"lütfen Doğum tarihinizi giriniz:\"))\n",
    "x4=float(input(\"lütfen Kilonuzu giriniz:\"))\n",
    "x5=float(input(\"lütfen Boyunuzu giriniz:\"))\n",
    "print(f'1. veri: {x1}')\n",
    "print(\"1. veri tipi:\",type(x1))\n",
    "print(f'2. veri: {x2}')\n",
    "print(\"2. veri tipi:\",type(x2))\n",
    "print(f'3. veri: {x3}')\n",
    "print(\"3. veri tipi:\",type(x3))\n",
    "print(\"4. veri:{}\".format(x4))\n",
    "print(\"4. veri tipi:\",type(x4))\n",
    "print(\"5. veri:{}\".format(x5))\n",
    "print(\"5. veri tipi:\",type(x5))"
   ]
  },
  {
   "cell_type": "code",
   "execution_count": null,
   "metadata": {},
   "outputs": [],
   "source": []
  }
 ],
 "metadata": {
  "kernelspec": {
   "display_name": "Python 3",
   "language": "python",
   "name": "python3"
  },
  "language_info": {
   "codemirror_mode": {
    "name": "ipython",
    "version": 3
   },
   "file_extension": ".py",
   "mimetype": "text/x-python",
   "name": "python",
   "nbconvert_exporter": "python",
   "pygments_lexer": "ipython3",
   "version": "3.7.6"
  }
 },
 "nbformat": 4,
 "nbformat_minor": 4
}
