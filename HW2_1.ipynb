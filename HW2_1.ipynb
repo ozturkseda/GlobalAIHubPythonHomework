{
 "cells": [
  {
   "cell_type": "code",
   "execution_count": 2,
   "metadata": {},
   "outputs": [
    {
     "name": "stdout",
     "output_type": "stream",
     "text": [
      "Please enter your name:seda\n",
      "Please enter your Surname:öztürk\n",
      "Please enter your age:27\n",
      "Please enter birth date :1999\n",
      "seda\n",
      "öztürk\n",
      "27\n",
      "1999\n",
      "You can  go out to the street\n"
     ]
    }
   ],
   "source": [
    "val1=input(\"Please enter your name:\")\n",
    "val2=input(\"Please enter your Surname:\")\n",
    "val3=int(input(\"Please enter your age:\"))\n",
    "val4=int(input(\"Please enter birth date :\"))\n",
    "\n",
    "mylist=list([val1,val2,val3,val4])\n",
    "for i in mylist:\n",
    "    print(i)\n",
    "if mylist[2]<18:\n",
    "    print(\"You can't go out because it is dangerous\")\n",
    "else:\n",
    "    print(\"You can  go out to the street\")"
   ]
  },
  {
   "cell_type": "code",
   "execution_count": null,
   "metadata": {},
   "outputs": [],
   "source": []
  }
 ],
 "metadata": {
  "kernelspec": {
   "display_name": "Python 3",
   "language": "python",
   "name": "python3"
  },
  "language_info": {
   "codemirror_mode": {
    "name": "ipython",
    "version": 3
   },
   "file_extension": ".py",
   "mimetype": "text/x-python",
   "name": "python",
   "nbconvert_exporter": "python",
   "pygments_lexer": "ipython3",
   "version": "3.7.6"
  }
 },
 "nbformat": 4,
 "nbformat_minor": 4
}
