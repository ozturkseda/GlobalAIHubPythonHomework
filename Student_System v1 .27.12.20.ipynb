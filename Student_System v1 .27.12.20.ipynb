{
 "cells": [
  {
   "cell_type": "code",
   "execution_count": 10,
   "metadata": {},
   "outputs": [
    {
     "name": "stdout",
     "output_type": "stream",
     "text": [
      "Please enter your name:Ali\n",
      "Please enter your surname:Kemal\n",
      "Welcome to system AliKemal\n",
      "You can take min 3 lesson and max 5 lesson\n",
      "Math Science Gym Art SocialScience\n",
      "How many course do you want to take\n",
      "None4\n",
      "Please enter course name\n",
      "Noneah\n",
      "Please enter course name\n",
      "Nonesf\n",
      "Please enter course name\n",
      "Nonessd\n",
      "Please enter course name\n",
      "Nonead\n",
      "['ah', 'sf', 'ssd', 'ad']\n",
      "Please enter score for ah\n",
      "Enter Midterm Score67\n",
      "Enter final Score4\n",
      "Enter Project Score6\n",
      "You failed with FF\n"
     ]
    }
   ],
   "source": [
    "\n",
    "#Eksikler : 3 ile 5 arasında ders girmesini istedikten sonra kaç adet grdiğini takip ediyor fakat ders adları listede mi check etmiyor\n",
    "#Kaç adet ders seçimi dediğinde 5 dan fazla ders girdiğinde hata verip programı puan hesaplamaya götürüyor, fakat döngü ile ya da return ile tekrar soruyu sormalı.\n",
    "#Diğer eksiklikler için dönüş yapabilirseniz sevinirim daha fazla zamanım kalmadı.Her şey için tüm ekibe çok teşekkürler.\n",
    "\n",
    "j=+1\n",
    "while j<=3 :\n",
    "    List_namesurname=[\"ElifYigit\",\"ÖmerCengiz\",\"AyşeÖztürk\", \"MehmetAkın\",\"SumeyraŞahinkaya\",\"AliKemal\",\"SedaAkman\"]\n",
    "    stu_name=input(\"Please enter your name:\")\n",
    "    stu_surname=input(\"Please enter your surname:\")\n",
    "    student=stu_name+stu_surname\n",
    "\n",
    "    for i in List_namesurname:\n",
    "            if student==i:\n",
    "                j=5\n",
    "                print(\"Welcome to system\", i )\n",
    "                i=+1 \n",
    "                break \n",
    "    else :\n",
    "            print(\"Name doesn't exist in System\")\n",
    "            j=j+1\n",
    "if j==4 :\n",
    "    print(\"Try again later\")\n",
    "#öğrenci sisteme girebildikten sonra kursları seçme aşaması  \n",
    "\n",
    "Courses_List=[\"Math\", \"Science\", \"Gym\", \"Art\",\"SocialScience\"]\n",
    "Selected_List=[]\n",
    "\n",
    "\n",
    "print(\"You can take min 3 lesson and max 5 lesson\")\n",
    "print(\"Math Science Gym Art SocialScience\")\n",
    "k=int(input(print(\"How many course do you want to take\")))\n",
    "if k>6 or k<3 :\n",
    "        print(\"you must take under the 6 lesson or upper the 3 lesson, you failed in class\")\n",
    "else :\n",
    "    l=1\n",
    "    while l<=k:\n",
    "        m=input(print(\"Please enter course name\"))\n",
    "        Selected_List.append(m)\n",
    "        l=l+1\n",
    "print(Selected_List)\n",
    "t=0\n",
    "print(\"Please enter score for\",Selected_List[t])\n",
    "midterm=int(input(\"Enter Midterm Score\")) \n",
    "final=int(input(\"Enter final Score\")) \n",
    "Project=int(input(\"Enter Project Score\")) \n",
    "y=(midterm,final,Project)\n",
    "if 100>(y[0]*0.3+y[1]*0.5+y[2]*0.2)>=90 :\n",
    "    print(\"You passed with AA\")\n",
    "elif 70<=int(y[0]*0.30+y[1]*0.5+y[2]*0.2)<90:\n",
    "    print(\"You passed with BB\")\n",
    "elif 50<=int(y[0]*0.30+y[1]*0.5+y[2]*0.2)<70:\n",
    "    print(\"You passed with CC\")\n",
    "elif 30<=int(y[0]*0.30+y[1]*0.5+y[2]*0.2)<50:\n",
    "    print(\"You passed with DD\")\n",
    "elif int(y[0]*0.30+y[1]*0.5+y[2]*0.2)<30:\n",
    "    print(\"You failed with FF\")\n",
    "elif int(y[0]*0.30+y[1]*0.5+y[2]*0.2)>100:\n",
    "    print(\"You wrote wrong score\")\n",
    "    k=k+1"
   ]
  },
  {
   "cell_type": "code",
   "execution_count": null,
   "metadata": {},
   "outputs": [],
   "source": []
  },
  {
   "cell_type": "markdown",
   "metadata": {},
   "source": [
    "###### "
   ]
  }
 ],
 "metadata": {
  "kernelspec": {
   "display_name": "Python 3",
   "language": "python",
   "name": "python3"
  },
  "language_info": {
   "codemirror_mode": {
    "name": "ipython",
    "version": 3
   },
   "file_extension": ".py",
   "mimetype": "text/x-python",
   "name": "python",
   "nbconvert_exporter": "python",
   "pygments_lexer": "ipython3",
   "version": "3.8.5"
  }
 },
 "nbformat": 4,
 "nbformat_minor": 4
}
